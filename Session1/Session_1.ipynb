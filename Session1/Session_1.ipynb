{
 "cells": [
  {
   "cell_type": "markdown",
   "metadata": {},
   "source": [
    "# An Introduction to Python\n",
    "## The second Kathmandu Astrophysics School\n",
    "#### By Jack Line, June 2018\n",
    "\n",
    "Welcome to the Kathmandu Astrophysics School 2018 `python` sessions! In the following set of notebooks, we will go from the very basics of python, learn to create functions and classes, use modules such as numpy and astropy, as well as how to plot our data products. Parts of these notebooks borrow ideas from the book Computational Physics by Mark Newman, which are also used in your science and method lectures. I have assumed zero knowledge, so if you've never programmed before, never fear.\n",
    "\n",
    "The internet is a great resource for coding problems, so never hesitate to look up syntax and methods if you get stuck! Of course, ask your lecturers as well, we're here to help.\n",
    "\n",
    "I've tried to make these sessions as interactive as possible because the best way to learn coding is to *do* coding. This is why we are using Jupyter notebooks - in the cells below, where it says `In [ ]` on the side, you can write `python` code *directly* into the notebook. Once you've written your code, you can either click the run button above (this one)\n",
    "![run_button.png](run_button.png)\n",
    "or press `control + return` on you keyboard, and it will run the code for you! The output is then shown directly below. Whenever you see `In [ ]`, assume you need to run the cell.\n",
    "\n",
    "This first notebook is quite text heavy as we need to introduce the basic building blocks of programming as well as `python`. As you gain knowledge and skills, we can progress to less text and more code.\n",
    "\n",
    "Have fun!"
   ]
  },
  {
   "cell_type": "markdown",
   "metadata": {},
   "source": [
    "# Session 1\n",
    "\n",
    "## Which python are we using?\n",
    "\n",
    "The VERY first thing we're going to do is work out what version of `python` you are using. This will either be `python2` or `python3`. Like any good programming language, `python` is being improved over the years, and unfortunately that means sometimes the syntax (how you write the language) changes. There are some important differences between the `python2` and `python3` - in this course, you can use either, but we're going to make `python2` work like `python3` so we can all use the same syntax.\n",
    "\n",
    "If you look up at the top right corner, you will find out what version you are using:\n",
    "![python_version.png](python_version.png)\n",
    "In this example we are using `python2` - you might be seeing `python3` right now, and that's fine. As an example of the difference, try running the code in the box below."
   ]
  },
  {
   "cell_type": "code",
   "execution_count": null,
   "metadata": {},
   "outputs": [],
   "source": [
    "print \"Hello world\""
   ]
  },
  {
   "cell_type": "markdown",
   "metadata": {},
   "source": [
    "If you are running `python2`, you will have seen the output"
   ]
  },
  {
   "cell_type": "markdown",
   "metadata": {},
   "source": [
    "```\n",
    "Hello world\n",
    "```"
   ]
  },
  {
   "cell_type": "markdown",
   "metadata": {},
   "source": [
    "which is the desired outcome of this command. Congratulations! If you are running `python3`, this will have failed, and you will have seen something like this output:"
   ]
  },
  {
   "cell_type": "markdown",
   "metadata": {},
   "source": [
    "```\n",
    "File \"<ipython-input-1-9fb80848b1b7>\", line 1\n",
    "    print \"Hello world\"\n",
    "                      ^\n",
    "SyntaxError: Missing parentheses in call to 'print'\n",
    "```"
   ]
  },
  {
   "cell_type": "markdown",
   "metadata": {},
   "source": [
    "This is because they changed the `print` function in `python3` (we will learn what the word function means very soon). To make sure everyone is on the same page, run the next box (remember click on the box and press `control + return`)"
   ]
  },
  {
   "cell_type": "code",
   "execution_count": null,
   "metadata": {},
   "outputs": [],
   "source": [
    "from __future__ import division\n",
    "from __future__ import print_function\n",
    "from __future__ import absolute_import"
   ]
  },
  {
   "cell_type": "markdown",
   "metadata": {},
   "source": [
    "These three lines of code should make `python2` behave like `python3`, and so all everyone should be working the same. Everyone should now fail if they run the next cell (try it):"
   ]
  },
  {
   "cell_type": "code",
   "execution_count": null,
   "metadata": {},
   "outputs": [],
   "source": [
    "print \"Hello world\""
   ]
  },
  {
   "cell_type": "markdown",
   "metadata": {},
   "source": [
    "Now try running the `python3` print statement syntax below:"
   ]
  },
  {
   "cell_type": "code",
   "execution_count": null,
   "metadata": {},
   "outputs": [],
   "source": [
    "print(\"Hello world\")"
   ]
  },
  {
   "cell_type": "markdown",
   "metadata": {},
   "source": [
    "The `print` function is extremely useful for checking our code and looking for problems (problems are called bugs, so fixing problems is called 'debugging'). Now we are set up let's go though some of the basics.\n",
    "\n",
    "## Variables\n",
    "The basic building blocks of your code are called 'variables', and they come in a few different types. Four main types are shown here:\n"
   ]
  },
  {
   "cell_type": "code",
   "execution_count": null,
   "metadata": {},
   "outputs": [],
   "source": [
    "a = 1\n",
    "b = 1.0\n",
    "c = 1.0 + 1j\n",
    "d = 'example'"
   ]
  },
  {
   "cell_type": "markdown",
   "metadata": {},
   "source": [
    "These four lines of code are 'assignment statements', in which we've told the computer that we want a variable called `a`, and that we want it to equal `1`. Let's check our assignments by printing out the values of `a,b,c,d` below:"
   ]
  },
  {
   "cell_type": "code",
   "execution_count": null,
   "metadata": {},
   "outputs": [],
   "source": [
    "print(a)\n",
    "print(b)\n",
    "print(c)\n",
    "print(d)"
   ]
  },
  {
   "cell_type": "markdown",
   "metadata": {},
   "source": [
    "Note that we don't have to print every variable separately - we can print all of them simultaneously by separating them with a comma:"
   ]
  },
  {
   "cell_type": "code",
   "execution_count": null,
   "metadata": {},
   "outputs": [],
   "source": [
    "print(a,b,c,d)"
   ]
  },
  {
   "cell_type": "markdown",
   "metadata": {},
   "source": [
    "We can look at the types of variables that we have created by using the `type` command:"
   ]
  },
  {
   "cell_type": "code",
   "execution_count": null,
   "metadata": {},
   "outputs": [],
   "source": [
    "print(type(a),type(b),type(c),type(d))"
   ]
  },
  {
   "cell_type": "markdown",
   "metadata": {},
   "source": [
    "We have created an integer number (`int`), a floating point number (`float`), a complex number (`complex`) and a string (`str`). An integer is a whole number only, and cannot take fractional values (you cannot have an integer of `1.2` for example), whereas a floating point number can. A complex number has an imaginary part, which in python is indicated by adding a `j` to the number (`3.2j` for example). Finally, a string is essentially text, which can be useful for labelling and naming. Don't worry about the `< class >` part of the output for now, we will discuss this later.\n",
    "\n",
    "Once you have assigned a variable, it isn't set in stone, you can easily reassign the variable. Whilst this is very flexible, it means you should be careful when choosing variable names. If you end up writing many lines of code and assign very simple names to your variables, you may end up reassigning a variable by accident.\n",
    "\n",
    "Note that in short hand, adding the `.0` to the `1` makes it it a float, i.e. `x = 1` makes an integer, `x = 1.0` makes a float. You can explicitly define this behaviour by used the `int` and `float` functions like this `x = int(1)` or `x = float(1)`. This is useful for changing the type of a number as well.\n",
    "\n",
    "***\n",
    "## <font color=blue>Exercise 1.1</font>\n",
    "Do some assignment yourself! Make a variable called `x` and make it a float equal to 10.0. Test whether you have the correct type by using the `type` command. Try printing your answer as well. You can assign nearly any name to a variable as well. Try naming a different variable `apples`, and give it a value and type of your choosing. Use the empty box below to type in the code, and then run it."
   ]
  },
  {
   "cell_type": "code",
   "execution_count": null,
   "metadata": {},
   "outputs": [],
   "source": []
  },
  {
   "cell_type": "markdown",
   "metadata": {},
   "source": [
    "***\n",
    "## Arithmetic\n",
    "Now we know how to create variables, let's do some arithmetic with them. Say you want to evaluate the following equation: $$y = 2x$$ The first thing we have to do is assign a value to `x`, and then we use the following syntax to find `y`. In the box below, add your own value for `x`, and then run the code to see if the output of `y` makes sense:\n"
   ]
  },
  {
   "cell_type": "code",
   "execution_count": null,
   "metadata": {},
   "outputs": [],
   "source": [
    "x = \n",
    "y = 2*x\n",
    "print(y)"
   ]
  },
  {
   "cell_type": "markdown",
   "metadata": {},
   "source": [
    "So in the above, we see `*` denotes a multiplication. Let's summarise the syntax for all basic arithmetic using the following equations:\n",
    "$$ a = x + 2 $$\n",
    "\n",
    "$$ b = x - 3 $$\n",
    "\n",
    "$$ c = 3x $$\n",
    "\n",
    "$$ d = \\dfrac{x}{4} $$\n",
    "\n",
    "$$ f = x^2 $$\n",
    "\n",
    "Let's look at these in python code:"
   ]
  },
  {
   "cell_type": "code",
   "execution_count": null,
   "metadata": {},
   "outputs": [],
   "source": [
    "a = x + 2\n",
    "b = x - 3\n",
    "c = 3 * x\n",
    "d = x / 4\n",
    "f = x**2\n",
    "print(x)\n",
    "print(a,b,c,d,f)"
   ]
  },
  {
   "cell_type": "markdown",
   "metadata": {},
   "source": [
    "You can see that the code syntax is quite intuitive. We call the `+,-,*,/,**` symbols operators. Note you can leave spaces between the variables and the operators, and the code will still work. Notice how we don't need to assign `x` a value because you did it earlier when evaluating $y = 2x$. Check that the values you have printed make sense given the value that you assigned to `x`.\n",
    "\n",
    "The order in which the operators are applied is the same as normal arithmetic rules - for example, multiplication and division `*,/` are always run before addition and subtraction `+,-`. Powers are always calculated first, so `3*x**2` is the same as `x**2*3`, and both equal $3x^2$. Just like in normal arithmetic you can use parentheses `()` to make sure your operators occur in the order you intend.\n",
    "\n",
    "## <font color=blue>Exercise 1.2</font>\n",
    "In the box below, input the following equation, and print your answer. Try changing the value of `x` a few times (each time you click run or `control + return` the box runs the code again), and check that your output makes sense.\n",
    "$$ y = 2x^3 + \\dfrac{4x}{2} $$"
   ]
  },
  {
   "cell_type": "code",
   "execution_count": null,
   "metadata": {},
   "outputs": [],
   "source": []
  },
  {
   "cell_type": "markdown",
   "metadata": {},
   "source": [
    "### A word on division\n",
    "There are actually *two* types of division in python. The `/` does floating point division, so it will return fractional values - regardless of whether you feed it an integer *or* a float. For example, `3 / 2` gives `1.5`. The second type of division is integer division, which uses `//` as the operator. This kind of division *rounds the answer down to the nearest integer*. For example, `3 // 2` will give `1`. Note this division always rounds *down*,  so `-8 // 5` gives `-2`. Another useful operator will tell you how much is left over, which is the modulo `%`. This basically tells you what is left over after integer division. For example, `3 % 2` gives `1`, as `3 / 2` is `2` remainder `1`. The modulo is useful for working out if an integer is even or odd, as `x%2` is always zero for an even number.\n",
    "\n",
    "***\n",
    "## <font color=blue>Exercise 1.3</font>\n",
    "Try a few examples of floating point division, integer division and modulo in the box below. Be sure to predict the outcome before you run the code to check your understanding. Try running a modulo on a float and see if the output makes sense to you."
   ]
  },
  {
   "cell_type": "code",
   "execution_count": null,
   "metadata": {},
   "outputs": [],
   "source": []
  },
  {
   "cell_type": "markdown",
   "metadata": {},
   "source": [
    "***\n",
    "### <font color=red>A division warning for `python2` </font>\n",
    "There is a slight difference in division inherent in `python2`. If you divide one integer by another in `python2`, you will *always* get integer division, whether you use `//` or `/`. For example in `python2`, `3 / 2` will give `1`. This is the reason we ran the line `from __future__ import division` earlier - this makes `python2` division behave the same as `python3`. My suggestion is either upgrade to `python3` if possible, or always include the `__future__` imports above in your `python2` code.\n",
    "\n",
    "## Functions\n",
    "Often in programming there will be an equation or set of operations that you want to repeat multiple times, but you don't want to type out multiple times. In this case you write what's called a function. Let's look at a simple example. Let's say we want to evaluate the expression $x^n$, for any given value of $x$ or $n$. We could write a function that looks like this\n",
    "\n",
    "```python\n",
    "def x_power_n(x,n):\n",
    "    return x**n\n",
    "```\n",
    "\n",
    "This is the most basic version of writing a function, and only took us 2 lines of code. The `def` statement signifies that we are defining a new function, which is named by the very next part of the line. I have chosen the name `x_power_n` as it describes what the function will be doing$^\\dagger$. The name cannot have any spaces within it. The parenthesis directly after `x_power_n` then define the variables that this function expects, namely it needs you to input a value for `x` and `n`. After that, the colon `:` means we are now ready to define our function. The `return` statement means that when you run the function, it will give you back whatever is written after `return`, which in this case in `x**n`. Let's use this function and see how we get an output from it. Run the code box below.\n",
    "***\n",
    "$^\\dagger$ We can choose whatever name we want for the function, although there is a style and naming convention guide called 'PEP 8' which you can read about [using this link](https://www.python.org/dev/peps/pep-0008/#naming-conventions). It's useful for when other people need to read your code as it makes it more understandable. We will try and stick to this convention but don't worry about reading or understanding it right now!\n",
    "***"
   ]
  },
  {
   "cell_type": "code",
   "execution_count": null,
   "metadata": {},
   "outputs": [],
   "source": [
    "def x_power_n(x,n):\n",
    "    return x**n\n",
    "\n",
    "output = x_power_n(2,3)\n",
    "print(output)"
   ]
  },
  {
   "cell_type": "markdown",
   "metadata": {},
   "source": [
    "Notice how the `return` line below the `def` statement is indented - this tells `python` that this line belongs to the function. Once you have finished defining the function, you stop indenting, and write other code. You should use spaces to do the indenting and not the tab key, because different operating systems (like windows, mac, or linux varieties) can interpret the tab key differently.\n",
    "\n",
    "To use our function, we passed two numbers to the `x_power_n` function by typing `x_power_n(2,3)`. As we defined the function as `x_power_n(x,n)`, the function did an automatic internal assignment of `x=2,n=3`. As our function returns the value for `x**n`, we can assign that value to any variable name; I have creatively chosen `output`.\n",
    "\n",
    "It is good practice to also include a 'docstring' with your function, which you add by writing some text surround by 3 apostrophes either side like this:\n",
    "\n",
    "```python\n",
    "def x_power_n(x,n):\n",
    "    '''Simply returns x to the power n'''\n",
    "    return x**n\n",
    "```\n",
    "The docstring is a description of what the function actually does, and is useful because often you use functions written by other people, which you can't see the source code from. You can access this description using the `help` function. Try it!"
   ]
  },
  {
   "cell_type": "code",
   "execution_count": null,
   "metadata": {},
   "outputs": [],
   "source": [
    "def x_power_n(x,n):\n",
    "    '''Simply returns x to the power n'''\n",
    "    return x**n\n",
    "\n",
    "help(x_power_n)"
   ]
  },
  {
   "cell_type": "markdown",
   "metadata": {},
   "source": [
    "You can `return` as many values as you want from you function. For example, if you wanted to also return `x` and `n`, you could define the function like so:\n",
    "```python\n",
    "def x_power_n(x,n):\n",
    "    '''Returns x, n, and x to the power n'''\n",
    "    return x,n,x**n\n",
    "```\n",
    "As this function returns three values, you can assign three variables to it like this:\n",
    "```python\n",
    "x_in, n_in, output = x_power_n(x,n)\n",
    "```\n",
    "\n",
    "***\n",
    "## <font color=blue>Exercise 1.4</font>\n",
    "Ok let's try and use everything we've learned so far! Write a function in the box below that takes two numbers, and returns the integer division and well as the remainder of the two numbers. For example, if you name your function `my_function` and run the following code:\n",
    "```python\n",
    "int_division, remainder = my_function(3,2)\n",
    "print(int_division, remainder)\n",
    "```\n",
    "you should get the output\n",
    "```python\n",
    "1 1\n",
    "```\n",
    "Be sure to check your code works by inputting various values.\n",
    "<font color=red>Optional extension</font> - make the function demand that the input numbers are integers, and warn the user if they try and use anything else. You'll need to understand `if` statements to do this.\n"
   ]
  },
  {
   "cell_type": "code",
   "execution_count": null,
   "metadata": {},
   "outputs": [],
   "source": []
  },
  {
   "cell_type": "markdown",
   "metadata": {},
   "source": [
    "***\n",
    "## `for` loops and `lists`\n",
    "Now we know how to write a function, we don't want to have to constantly enter values by writing line after line of code. This is where `for` loops come in. We can contain multiple values within a `list`, which we do with the following code:\n",
    "```python\n",
    "interesting_values = [1,2,3,4,5]\n",
    "```\n",
    "We now have a list called `interesting_values` that contains 5 numbers. The position of each 'element' within the list is called the 'index' of the element, where the index is a number that refers to that position. <font color=red>**Importantly, the first position index is equal to 0**</font>. We can access the first element in the list by using square parentheses and the index value that we want:\n",
    "```\n",
    "first_element = interesting_values[0]\n",
    "```\n",
    "Try running the code below and see if the outputs make sense to you - try changing the element that we are accessing as well and predict that behaviour."
   ]
  },
  {
   "cell_type": "code",
   "execution_count": null,
   "metadata": {},
   "outputs": [],
   "source": [
    "interesting_values = [1,2,3,4,5]\n",
    "print(interesting_values[0])\n",
    "print(interesting_values[3])"
   ]
  },
  {
   "cell_type": "markdown",
   "metadata": {},
   "source": [
    "We can use a `for` loop to iterate through the `list`. Try running this code:"
   ]
  },
  {
   "cell_type": "code",
   "execution_count": null,
   "metadata": {},
   "outputs": [],
   "source": [
    "for value in interesting_values:\n",
    "    print(value)"
   ]
  },
  {
   "cell_type": "markdown",
   "metadata": {},
   "source": [
    "So the `for` command loops through the list, assigning the numbers in `interesting_values` one by one to the variable `value`. Note we can name `value` whatever we want, e.g. the following code would give exactly the same result:\n",
    "```python\n",
    "for something in interesting_values:\n",
    "    print(something)\n",
    "```\n",
    "Note that we need the `in` statement here to specify that we are looping over the elements in `interesting_values`, again the colon `:` signifies that the loop is beginning, and anything that we want to do within the loop (like the `print` statement) *has to be indented*.\n",
    "\n",
    "We can start with an empty list and add values to it as well. We do this by using an inbuilt feature of a `list`, called the `append` function. We can do this through a `for` loop, and we'll also use the inbuilt `range` function \n",
    "\n"
   ]
  },
  {
   "cell_type": "code",
   "execution_count": null,
   "metadata": {},
   "outputs": [],
   "source": [
    "empty_list = []\n",
    "\n",
    "for number in range(1,6):\n",
    "    empty_list.append(number*2)\n",
    "    \n",
    "print(list(range(1,6)))\n",
    "print(empty_list)"
   ]
  },
  {
   "cell_type": "markdown",
   "metadata": {},
   "source": [
    "So creating an empty list is a simple as making a `list` with no entries. The `range(l,m)` function returns a consecutive list of integers between $l$ and $m-1$. We do a `for` loop through them, and for each number, we multiply by 2 and `append` them to `empty_list`. The full stop `.` between `empty_list` and `append` means the `append` function is acting upon `empty_list`, by adding whatever is inside the parenthesis `()` directly after `append`. In this way, we make a `list` as long as we like (the memory of the computer being a limitation) . We can `append` items to the `list` at any time after it is created.\n",
    "\n",
    "***\n",
    "## <font color=blue>Exercise 1.5</font>\n",
    "In the box below, write a `for` loop to calculate `x_power_n(value,value)` for each value in `interesting_values`, and `print` the value you calculate each time. Check your output makes sense.\n",
    "<font color=red>Optional extension</font> - try writing a `for` loop that calculates all `interesting_values[i+1] - interesting_values[i]` where `i` is some number between 0 and 3 inclusive"
   ]
  },
  {
   "cell_type": "code",
   "execution_count": null,
   "metadata": {},
   "outputs": [],
   "source": []
  },
  {
   "cell_type": "markdown",
   "metadata": {},
   "source": [
    "***\n",
    "## Logic statements: `if` ,`elif `,`else`,`or`, `and`\n",
    "Often during programming, we need to check whether inputs or outputs meet certain criteria. We can test the 'truth' of a certain logic by performing a logic test using special in built functions. The first step is to use 'comparison operators' - we often write these in algebra. An example is less than `<`, which when written as $x < 5$ means that $x$ has a value less than 5. The common comparison operators are tabled here:\n",
    "\n",
    "| Comparison Operator        | Meaning       |\n",
    "|:--------------------------:|:-------------:|\n",
    "| < | Less than |\n",
    "| <= | Less than or equal to |\n",
    "| > | Greater than |\n",
    "| >= | Greater than or equal to |\n",
    "| == | Equal to |\n",
    "| != | Not equal to |\n",
    "\n",
    "Note that because `=` is used to assign variables, to test if two numbers are equal, `==` is used. To utilise these comparison operators, we can use the `if` statement. Comparison operators return either `True` or `False`. Try running to following code:"
   ]
  },
  {
   "cell_type": "code",
   "execution_count": null,
   "metadata": {},
   "outputs": [],
   "source": [
    "a = 3\n",
    "print(a == 3)\n",
    "print(a > 3)"
   ]
  },
  {
   "cell_type": "markdown",
   "metadata": {},
   "source": [
    "`True` are `False` are called 'bools', and are used by the computer to judge how to proceed with the code. We use comparison operators in conjunction with logic tests. Let's try the `if` statement - run the code below"
   ]
  },
  {
   "cell_type": "code",
   "execution_count": null,
   "metadata": {},
   "outputs": [],
   "source": [
    "for number in [1,2,3,4,5]:\n",
    "    if number == 3:\n",
    "        print('The number',number,'is equal to 3')"
   ]
  },
  {
   "cell_type": "markdown",
   "metadata": {},
   "source": [
    "Although we have made the computer state something pretty obvious, this is powerful as we can build up complex logic chains. We've used a `for` loop to cycle through the numbers 1 through 5, and tested each number to see if it equals three by using the `if` statement. You can almost read it as a sentence: \"if the number equals three, do the code indented below this if statement\". Just like `for` loops, after an `if` statement, you must add a semicolon `:`, and then indent any code after that which you wish to run if the comparison operator returns `True`.\n",
    "\n",
    "`if` statements can be used with `else` statements as well. This is a catch all for any variable that doesn't pass the logic test. Try running this code:"
   ]
  },
  {
   "cell_type": "code",
   "execution_count": null,
   "metadata": {},
   "outputs": [],
   "source": [
    "for number in [1,2,3,4,5]:\n",
    "    if number == 3:\n",
    "        print('The number',number,'is equal to 3')\n",
    "    else:\n",
    "        print('The number',number,'is not equal to 3')"
   ]
  },
  {
   "cell_type": "markdown",
   "metadata": {},
   "source": [
    "So anything that returns `False` to `number == 3` is sent to the `else` statement. Note how because the `if` and `else` statements are **both indented to the same amount** the belong to the same `for` loop. The indentation tells `python` which bits of code to run when.\n",
    "\n",
    "The `elif` statement can be used as a second `if` test, and is short for 'else if'. Try the following code:"
   ]
  },
  {
   "cell_type": "code",
   "execution_count": null,
   "metadata": {},
   "outputs": [],
   "source": [
    "for number in [1,2,3,4,5]:\n",
    "    if number == 3:\n",
    "        print('The number',number,'is equal to 3')\n",
    "    elif number == 4:\n",
    "        print('The number',number,'is equal to 4')\n",
    "    else:\n",
    "        print('The number',number,'is not equal to 3 or 4')"
   ]
  },
  {
   "cell_type": "markdown",
   "metadata": {},
   "source": [
    "Importantly, the `elif` statement is *only* evaluated if the `if` statement returns a `False`, and the `else` statement is only evaluated if *both* the `if` and `elif` statements return `False`.\n",
    "\n",
    "We can use the `and`, `or` boolean operators to test multiple comparison operators simultaneously. Now try running this:"
   ]
  },
  {
   "cell_type": "code",
   "execution_count": null,
   "metadata": {},
   "outputs": [],
   "source": [
    "for number in [1,2,3,4,5]:\n",
    "    if number == 3 or number == 4:\n",
    "        print('The number',number,'is either a 3 or a 4')\n",
    "    elif number < 3 and number >= 1:\n",
    "        print('The number',number,'is less than 3 and greater than or equal to 1')\n",
    "    else:\n",
    "        print('The number',number,'is not equal to 3 or 4, or is  either greater than 3 or less than 1')"
   ]
  },
  {
   "cell_type": "markdown",
   "metadata": {},
   "source": [
    "Let's use the step function as a working case. The step function $f(x,a)$ can be defined through\n",
    "\n",
    "$$ f(x) = 0 \\quad  \\mathrm{when} \\quad  x < -a,\\,x > a $$\n",
    "\n",
    "$$ f(x) = 1 \\quad \\mathrm{when} \\quad -a <= x <= a $$\n",
    "\n",
    "We can use `if`, `elif` and `else` statements to write a function that achieves this behaviour. The code below shows a way of setting up the step function, and calculate it for a given list of numbers.\n",
    "\n",
    "I've used this opportunity to introduce 'comments'. Any line that begins with `#` is a comment - this line of code doesn't actually do anything - you use it describe what the code is doing. Writing comments is good practice: if you come back to code at a later date, you may have forgotten what it does. Comments help guide a human through what the code is doing. Read this code cell, and then run it to see if the output makes sense."
   ]
  },
  {
   "cell_type": "code",
   "execution_count": null,
   "metadata": {},
   "outputs": [],
   "source": [
    "#You can preset optional arguments when defining a function\n",
    "#In this function I have set the default value for a to be 3\n",
    "def step_function(x,a=3):\n",
    "    '''Calculates the step function of x, defined as\n",
    "    f(x) = 0 when x<-a, x>a\n",
    "    f(x) = 1 when -a <= x <= a'''\n",
    "    if x > a or x < -a:\n",
    "        return 0\n",
    "    else:\n",
    "        return 1\n",
    "\n",
    "#Setup a list to contain some values for x\n",
    "x_values = [-5,-4,-3.01,-3,-2,-1,0,1,2,3,3.01,4,5]\n",
    "\n",
    "#Setup an emtpy list to contain the step function values we are\n",
    "#to create\n",
    "y_values = []\n",
    "\n",
    "#Use a for loop to go through all x_values\n",
    "for x_value in x_values:\n",
    "    #for value of x, calculate a value for y\n",
    "    y_value = step_function(x_value)\n",
    "    #Append the y_values to the list y_values\n",
    "    y_values.append(y_value)\n",
    "\n",
    "print(x_values)\n",
    "print(y_values)"
   ]
  },
  {
   "cell_type": "markdown",
   "metadata": {},
   "source": [
    "Make sure you understand each line of the code.\n",
    "\n",
    "Ok so our output is correct, but often we want to *look* at the output to see if it makes sense. Use the following lines to make a very basic plot of what we have done"
   ]
  },
  {
   "cell_type": "code",
   "execution_count": null,
   "metadata": {},
   "outputs": [],
   "source": [
    "##Need this line because we are using a notebook - ignore this for now\n",
    "%matplotlib inline\n",
    "\n",
    "##We will cover what import actually means at the start of next session\n",
    "import matplotlib.pyplot as plt\n",
    "\n",
    "##Make a basic plot of the\n",
    "##x_values vs the y_values\n",
    "plt.plot(x_values,y_values)\n",
    "\n",
    "##Show the plot\n",
    "plt.show()"
   ]
  },
  {
   "attachments": {
    "potential_well_basic.png": {
     "image/png": "[encoded data removed]"
    }
   },
   "cell_type": "markdown",
   "metadata": {},
   "source": [
    "Got back to the cell where we we generated our y_values, and run the code again, after changing the value for `a` to 2. Run the plotting code again, and look at the output. It doesn't look square anymore. Why is that? Discuss this with your neighbours.\n",
    "\n",
    "***\n",
    "## <font color=blue>Exercise 1.6</font>\n",
    "In quantum mechanics, we often try and understand the behaviour of particles through the use of waveforms. To define the possible forms of wave that are possible, we can define a simple 1D potential well $V(x)$ in which a particle might be trapped within. An example is the following:\n",
    "\n",
    "$$ V(x) = 1 \\quad \\mathrm{where} \\quad x > 2\\pi ,\\,\\, x < -2\\pi $$\n",
    "\n",
    "$$ V(x) = \\frac{\\cos(x) + 1}{2}  \\quad \\mathrm{where} \\quad -2\\pi <= x < -\\pi ,\\,\\,  \\pi < x <= 2\\pi$$\n",
    "\n",
    "$$ V(x) = 0  \\quad \\mathrm{where} \\quad -pi <= x <= pi $$\n",
    "\n",
    "By filling in the blank spots in the code below, create a function to calculate $V(x)$, evaluate the function for all values of `x_values`, and then plot the output. Your answer should look like this:\n",
    "\n",
    "![potential_well_basic.png](attachment:potential_well_basic.png)"
   ]
  },
  {
   "cell_type": "code",
   "execution_count": null,
   "metadata": {},
   "outputs": [],
   "source": [
    "##We will need these functions so we have to import them\n",
    "##We will discuss importing in the next session\n",
    "from numpy import pi, cos, linspace\n",
    "\n",
    "def well_function(x):\n",
    "    ##TODO - write code to calculate V(x)\n",
    "    \n",
    "#Setup some interesting numbers using the linspace function\n",
    "#We will learn about this later - for now just use these values,\n",
    "#you can use them like the code we ran above\n",
    "x_values = linspace(-3*pi,3*pi,100)\n",
    "\n",
    "##TODO - fill this empty list with V(x)\n",
    "##values that correspond the the values in\n",
    "##x_values\n",
    "V_values = []\n",
    "\n",
    "\n",
    "##Make a basic plot of the\n",
    "##x_values vs the y_values\n",
    "plt.plot(x_values,V_values)\n",
    "\n",
    "##Show the plot\n",
    "plt.show()"
   ]
  },
  {
   "attachments": {
    "potential_well_fancier.png": {
     "image/png": "[encoded data removed]"
    }
   },
   "cell_type": "markdown",
   "metadata": {},
   "source": [
    "<font color=red>Optional extension</font> - do some research on how to plot outputs, and try and make your output look more like the plot below. Hint - I have used $\\mathrm{\\LaTeX}$ to render the $\\pi$ in the labels. If you haven't come across $\\mathrm{\\LaTeX}$ yet (it's commonly used to create journal papers as it handles mathematical equations well), just try and change the labels to appear in increments of 3.14.\n",
    "\n",
    "![potential_well_fancier.png](attachment:potential_well_fancier.png)\n",
    "***\n",
    "\n",
    "\n"
   ]
  }
 ],
 "metadata": {
  "kernelspec": {
   "display_name": "Python 3",
   "language": "python",
   "name": "python3"
  },
  "language_info": {
   "codemirror_mode": {
    "name": "ipython",
    "version": 3
   },
   "file_extension": ".py",
   "mimetype": "text/x-python",
   "name": "python",
   "nbconvert_exporter": "python",
   "pygments_lexer": "ipython3",
   "version": "3.5.2"
  }
 },
 "nbformat": 4,
 "nbformat_minor": 2
}
